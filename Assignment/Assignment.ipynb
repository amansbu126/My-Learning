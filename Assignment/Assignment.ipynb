{
 "cells": [
  {
   "cell_type": "code",
   "execution_count": 43,
   "metadata": {},
   "outputs": [],
   "source": [
    "# Importing the pandas library\n",
    "import pandas as pd\n",
    "import numpy as np"
   ]
  },
  {
   "cell_type": "code",
   "execution_count": 44,
   "metadata": {},
   "outputs": [],
   "source": [
    "# Load the first Excel sheet\n",
    "sheet1 = pd.read_excel('C:/Users/Aman Kumar/Downloads/customer_transactions_sample.xlsx', sheet_name='Year 2009-2010')"
   ]
  },
  {
   "cell_type": "code",
   "execution_count": 45,
   "metadata": {},
   "outputs": [],
   "source": [
    "# Load the second Excel sheet\n",
    "sheet2 = pd.read_excel('C:/Users/Aman Kumar/Downloads/customer_transactions_sample.xlsx', sheet_name='Year 2010-2011')"
   ]
  },
  {
   "cell_type": "code",
   "execution_count": 46,
   "metadata": {},
   "outputs": [],
   "source": [
    "# Concatenate the two sheets\n",
    "combined_sheet = pd.concat([sheet1, sheet2], ignore_index=True)\n",
    "\n",
    "# Display the combined sheet\n",
    "#combined_sheet.head(20)"
   ]
  },
  {
   "cell_type": "code",
   "execution_count": 47,
   "metadata": {},
   "outputs": [
    {
     "name": "stdout",
     "output_type": "stream",
     "text": [
      "Missing Values:\n",
      "Invoice             0\n",
      "StockCode           0\n",
      "Description         0\n",
      "Quantity            0\n",
      "InvoiceDate         0\n",
      "Price               0\n",
      "Customer ID    236122\n",
      "Country             0\n",
      "dtype: int64\n"
     ]
    }
   ],
   "source": [
    "df_filtered = combined_sheet[(combined_sheet['Quantity'] > 0) & (combined_sheet['Price'] > 0)]\n",
    "\n",
    "# Check for missing values\n",
    "new_missing_values = df_filtered.isnull().sum()\n",
    "\n",
    "# Check for erroneous values (assuming numerical data)\n",
    "new_erroneous_values = df_filtered.describe().loc[['min', 'max']]\n",
    "\n",
    "# Display the missing values and erroneous values\n",
    "print(\"Missing Values:\")\n",
    "print(new_missing_values)"
   ]
  },
  {
   "cell_type": "code",
   "execution_count": 48,
   "metadata": {},
   "outputs": [],
   "source": [
    "# Assuming your DataFrame is named combined_sheet\n",
    "\n",
    "# Step 1: Filter rows where 'Customer ID' is blank\n",
    "blank_customer_id_rows = df_filtered[df_filtered['Customer ID'].isnull()]\n",
    "\n",
    "# Step 2: Identify unique invoices from the rows where 'Customer ID' is blank\n",
    "unique_invoices = blank_customer_id_rows['Invoice'].unique()\n",
    "\n",
    "# Step 3: Generate unique customer IDs for each unique invoice\n",
    "# Create a dictionary to store generated customer IDs for each unique invoice\n",
    "customer_ids = {}\n",
    "\n",
    "# Generate and assign unique customer IDs for each unique invoice\n",
    "for invoice in unique_invoices:\n",
    "    # Generate a random customer ID\n",
    "    while True:\n",
    "        customer_id = np.random.randint(10000, 99999)\n",
    "        # Check if the generated ID already exists in the DataFrame\n",
    "        if customer_id not in df_filtered['Customer ID'].values:\n",
    "            # Assign this customer ID to the corresponding invoice\n",
    "            customer_ids[invoice] = customer_id\n",
    "            break\n",
    "\n",
    "# Step 4: Assign generated customer IDs to corresponding invoices in DataFrame\n",
    "for invoice, customer_id in customer_ids.items():\n",
    "    # Update 'Customer ID' column where 'Invoice' matches the current invoice\n",
    "    df_filtered.loc[(df_filtered['Invoice'] == invoice) & (df_filtered['Customer ID'].isnull()), 'Customer ID'] = customer_id\n",
    "\n",
    "# Now, combined_sheet should have unique customer IDs assigned to rows where 'Customer ID' was blank\n"
   ]
  },
  {
   "cell_type": "code",
   "execution_count": 49,
   "metadata": {},
   "outputs": [
    {
     "name": "stdout",
     "output_type": "stream",
     "text": [
      "Missing Values:\n",
      "Invoice        0\n",
      "StockCode      0\n",
      "Description    0\n",
      "Quantity       0\n",
      "InvoiceDate    0\n",
      "Price          0\n",
      "Customer ID    0\n",
      "Country        0\n",
      "dtype: int64\n"
     ]
    }
   ],
   "source": [
    "# Check for missing values\n",
    "new_missing_values = df_filtered.isnull().sum()\n",
    "\n",
    "# Check for erroneous values (assuming numerical data)\n",
    "new_erroneous_values = df_filtered.describe().loc[['min', 'max']]\n",
    "\n",
    "# Display the missing values and erroneous values\n",
    "print(\"Missing Values:\")\n",
    "print(new_missing_values)"
   ]
  },
  {
   "cell_type": "code",
   "execution_count": 40,
   "metadata": {},
   "outputs": [],
   "source": [
    "# Assuming your DataFrame is named combined_sheet\n",
    "\n",
    "# Replace null values in the 'Description' column with 'Unknown'\n",
    "#df_filtered['Description'] = df_filtered['Description'].fillna('Unknown')\n",
    "\n",
    "# Replace '?' with 'Unknown' in 'Description' column\n",
    "#df_filtered.loc[df_filtered['Description'] == '?', 'Description'] = 'Unknown'"
   ]
  },
  {
   "cell_type": "code",
   "execution_count": 50,
   "metadata": {},
   "outputs": [],
   "source": [
    "# Assuming combined_sheet is your DataFrame\n",
    "# Specify the path where you want to save the CSV file\n",
    "csv_file_path = \"C:\\\\Users\\\\Aman Kumar\\\\Downloads\\\\output_new_filtered.csv\"\n",
    "\n",
    "# Export the DataFrame to a CSV file\n",
    "df_filtered.to_csv(csv_file_path, index=False)  # Set index=False to exclude row indices from the CSV file\n"
   ]
  }
 ],
 "metadata": {
  "kernelspec": {
   "display_name": "Python 3",
   "language": "python",
   "name": "python3"
  },
  "language_info": {
   "codemirror_mode": {
    "name": "ipython",
    "version": 3
   },
   "file_extension": ".py",
   "mimetype": "text/x-python",
   "name": "python",
   "nbconvert_exporter": "python",
   "pygments_lexer": "ipython3",
   "version": "3.12.2"
  }
 },
 "nbformat": 4,
 "nbformat_minor": 2
}

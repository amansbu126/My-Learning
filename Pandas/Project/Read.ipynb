{
 "cells": [
  {
   "cell_type": "code",
   "execution_count": 15,
   "id": "faea64eb",
   "metadata": {},
   "outputs": [
    {
     "name": "stdout",
     "output_type": "stream",
     "text": [
      "Connected. Current Time: 2025-07-17 12:09:23\n"
     ]
    }
   ],
   "source": [
    "from sqlalchemy import create_engine,text\n",
    "\n",
    "# Replace with your actual local MySQL credentials\n",
    "username = \"root\"           # or whatever username you use\n",
    "password = \"aman\"   # replace with your actual password\n",
    "host = \"localhost\"\n",
    "port = 3306\n",
    "database = \"HR\"  # must exist already\n",
    "\n",
    "# Create connection string\n",
    "engine = create_engine(f\"mysql+pymysql://{username}:{password}@{host}:{port}/{database}\")\n",
    "\n",
    "# Test connection by running a simple query\n",
    "with engine.connect() as connection:\n",
    "    result = connection.execute(text(\"SELECT NOW();\"))\n",
    "    for row in result:\n",
    "        print(\"Connected. Current Time:\", row[0])\n"
   ]
  },
  {
   "cell_type": "code",
   "execution_count": 1,
   "id": "34160f58",
   "metadata": {},
   "outputs": [],
   "source": [
    "import pymysql\n",
    "pymysql.install_as_MySQLdb()"
   ]
  },
  {
   "cell_type": "code",
   "execution_count": 16,
   "id": "9c0b4ce8",
   "metadata": {},
   "outputs": [
    {
     "name": "stdout",
     "output_type": "stream",
     "text": [
      "✅ Data loaded into MySQL table 'customers'.\n"
     ]
    }
   ],
   "source": [
    "import pandas as pd\n",
    "\n",
    "# Step 1: Read from Excel\n",
    "df = pd.read_excel(r'C:/Users/Aman Kumar/Downloads/Ex_Files_ETL_Python_SQL/Ex_Files_ETL_Python_SQL/Exercise Files/Chapter_2/H+ Sport Customers.xlsx')\n",
    "\n",
    "# Step 2: Load into MySQL\n",
    "df.to_sql(\"customers\", con=engine, if_exists=\"append\", index=False)\n",
    "\n",
    "print(\"✅ Data loaded into MySQL table 'customers'.\")\n"
   ]
  },
  {
   "cell_type": "code",
   "execution_count": 17,
   "id": "db63d2fc",
   "metadata": {},
   "outputs": [
    {
     "name": "stdout",
     "output_type": "stream",
     "text": [
      "   CustomerID  FirstName LastName                 Email          Phone  \\\n",
      "0         100      Carol     Shaw        cshaw0@mlb.com  (206)804-8771   \n",
      "1         101  Elizabeth     Carr     ecarr1@oracle.com  (512)187-2507   \n",
      "2         102     Ernest    Ramos   eramos2@plala.or.jp  (816)540-4257   \n",
      "3         103       Jane   Carter  jcarter3@harvard.edu  (214)839-0542   \n",
      "4         104     Martha   Cooper       mcooper4@go.com  (727)235-5696   \n",
      "\n",
      "                  Address         City State Zipcode  \n",
      "0     8157 Longview Court      Seattle    WA   98121  \n",
      "1     3934 Petterle Trail       Austin    TX   78732  \n",
      "2  8699 Clarendon Terrace  Kansas City    MO   64199  \n",
      "3        2830 Novick Lane       Irving    TX   75037  \n",
      "4         4537 Hoard Lane        Tampa    FL   33625  \n"
     ]
    }
   ],
   "source": [
    "df = pd.read_sql(\"SELECT * FROM customers\", con=engine)\n",
    "print(df.head())\n"
   ]
  }
 ],
 "metadata": {
  "kernelspec": {
   "display_name": "venv",
   "language": "python",
   "name": "python3"
  },
  "language_info": {
   "codemirror_mode": {
    "name": "ipython",
    "version": 3
   },
   "file_extension": ".py",
   "mimetype": "text/x-python",
   "name": "python",
   "nbconvert_exporter": "python",
   "pygments_lexer": "ipython3",
   "version": "3.12.2"
  }
 },
 "nbformat": 4,
 "nbformat_minor": 5
}
